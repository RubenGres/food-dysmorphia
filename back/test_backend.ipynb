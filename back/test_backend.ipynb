{
 "cells": [
  {
   "cell_type": "markdown",
   "id": "b57f2571",
   "metadata": {},
   "source": [
    "# API testing notebook"
   ]
  },
  {
   "cell_type": "code",
   "execution_count": 1,
   "id": "56b56ddc-7c9a-4c3e-8353-41518a62b5fb",
   "metadata": {},
   "outputs": [],
   "source": [
    "import requests\n",
    "import base64\n",
    "from io import BytesIO\n",
    "from PIL import Image\n",
    "import uuid\n",
    "\n",
    "def encode_image_to_base64(image_path):\n",
    "    with open(image_path, \"rb\") as image_file:\n",
    "        return base64.b64encode(image_file.read()).decode(\"utf-8\")\n",
    "\n",
    "URL_API = \"https://toa4nqj3umza2o-5000.proxy.runpod.net/\""
   ]
  },
  {
   "cell_type": "code",
   "execution_count": 2,
   "id": "ec7f0c48-c50e-463c-a713-830446ed844f",
   "metadata": {},
   "outputs": [
    {
     "name": "stdout",
     "output_type": "stream",
     "text": [
      "\n",
      "    <h1> Food dysmorphia API running </h1>\n",
      "\n",
      "    Routes:\n",
      "    <ul>\n",
      "        <li> /position/pick </li>\n",
      "        <li> /position/free </li>\n",
      "        <li> /cards </li>\n",
      "        <li> /media/<id> </li>\n",
      "        <li> /transform </li>\n",
      "        <li> /info </li>\n",
      "    </ul>\n",
      "    \n"
     ]
    }
   ],
   "source": [
    "# basic route\n",
    "print(requests.get(URL_API).text)"
   ]
  },
  {
   "cell_type": "code",
   "execution_count": 44,
   "id": "b1c99950-c0d0-4472-9594-64f02a018862",
   "metadata": {},
   "outputs": [
    {
     "name": "stdout",
     "output_type": "stream",
     "text": [
      "{\"country\":\"unknown\",\"fruit\":\"coconut\",\"is_valid\":true}\n",
      "\n"
     ]
    }
   ],
   "source": [
    "# info route\n",
    "\n",
    "url = URL_API + \"info\"\n",
    "image_path = \"image/coconut.jpg\"\n",
    "encoded_image = encode_image_to_base64(image_path)\n",
    "payload = {\"image\": encoded_image}\n",
    "\n",
    "response = requests.post(url, json=payload)\n",
    "\n",
    "print(response.text)"
   ]
  },
  {
   "cell_type": "code",
   "execution_count": 43,
   "id": "3e96f705-024c-474e-b00f-2185f1e808b2",
   "metadata": {},
   "outputs": [
    {
     "name": "stdout",
     "output_type": "stream",
     "text": [
      "{'info_text': 'Futuristic solar punk city, greenery, vines', 'media_src': 'fd__00025.mp4'}\n",
      "check video here:\n",
      "https://toa4nqj3umza2o-5000.proxy.runpod.net/media/fd__00025.mp4\n"
     ]
    }
   ],
   "source": [
    "# next position\n",
    "\n",
    "url = URL_API + \"transform\"\n",
    "\n",
    "image_path = \"image/kiwi.jpg\"\n",
    "encoded_image = encode_image_to_base64(image_path)\n",
    "\n",
    "payload = {\n",
    "    \"input_images\": {\n",
    "        \"input_img.jpg\": encoded_image\n",
    "    },\n",
    "    \"workflow\": \"img2morph\",\n",
    "    \"client_id\": str(uuid.uuid4()),\n",
    "    \"params\": {\n",
    "        \"input_image\": \"input_img.jpg\",\n",
    "        \"seed\": 131213121312,\n",
    "    },\n",
    "    \"coords\": [0.0, 0.0]\n",
    "}\n",
    "\n",
    "response = requests.post(url, json=payload)\n",
    "\n",
    "print(response.json())\n",
    "\n",
    "print(\"check video here:\")\n",
    "print(URL_API + \"media/\" + response.json()['media_src'])"
   ]
  }
 ],
 "metadata": {
  "kernelspec": {
   "display_name": "Python 3 (ipykernel)",
   "language": "python",
   "name": "python3"
  },
  "language_info": {
   "codemirror_mode": {
    "name": "ipython",
    "version": 3
   },
   "file_extension": ".py",
   "mimetype": "text/x-python",
   "name": "python",
   "nbconvert_exporter": "python",
   "pygments_lexer": "ipython3",
   "version": "3.10.12"
  }
 },
 "nbformat": 4,
 "nbformat_minor": 5
}
