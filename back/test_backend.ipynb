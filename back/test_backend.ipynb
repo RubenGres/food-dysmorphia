{
 "cells": [
  {
   "cell_type": "markdown",
   "id": "b57f2571",
   "metadata": {},
   "source": [
    "# API testing notebook"
   ]
  },
  {
   "cell_type": "code",
   "execution_count": 12,
   "id": "56b56ddc-7c9a-4c3e-8353-41518a62b5fb",
   "metadata": {},
   "outputs": [],
   "source": [
    "import requests\n",
    "import base64\n",
    "from io import BytesIO\n",
    "from PIL import Image\n",
    "import uuid\n",
    "\n",
    "def encode_image_to_base64(image_path):\n",
    "    with open(image_path, \"rb\") as image_file:\n",
    "        return base64.b64encode(image_file.read()).decode(\"utf-8\")\n",
    "\n",
    "URL_API = \"http://localhost:5000/\""
   ]
  },
  {
   "cell_type": "code",
   "execution_count": 7,
   "id": "ec7f0c48-c50e-463c-a713-830446ed844f",
   "metadata": {},
   "outputs": [
    {
     "name": "stdout",
     "output_type": "stream",
     "text": [
      "\n",
      "    <h1> Food dysmorphia API running </h1>\n",
      "\n",
      "    Routes:\n",
      "    <ul>\n",
      "        <li> /transform </li>\n",
      "        <li> /info </li>\n",
      "    </ul>\n",
      "    \n"
     ]
    }
   ],
   "source": [
    "# basic route\n",
    "print(requests.get(URL_API).text)"
   ]
  },
  {
   "cell_type": "code",
   "execution_count": 13,
   "id": "b1c99950-c0d0-4472-9594-64f02a018862",
   "metadata": {},
   "outputs": [
    {
     "name": "stdout",
     "output_type": "stream",
     "text": [
      "{\"country\":\"France\",\"fruit\":\"coconut\",\"is_valid\":true}\n",
      "\n"
     ]
    }
   ],
   "source": [
    "# info route\n",
    "\n",
    "url = URL_API + \"info\"\n",
    "image_path = \"image/coconut.jpg\"\n",
    "encoded_image = encode_image_to_base64(image_path)\n",
    "payload = {\"image\": encoded_image}\n",
    "\n",
    "response = requests.post(url, json=payload)\n",
    "\n",
    "print(response.text)"
   ]
  },
  {
   "cell_type": "code",
   "execution_count": null,
   "id": "69ff8cd7-e9e9-4d15-a0e7-c6e7db737c63",
   "metadata": {},
   "outputs": [
    {
     "name": "stdout",
     "output_type": "stream",
     "text": [
      "This is a call to action\n"
     ]
    }
   ],
   "source": [
    "# generation route\n",
    "\n",
    "url = URL_API + \"transform\"\n",
    "\n",
    "payload = {\n",
    "    \"image\": encoded_image,\n",
    "    \"workflow\": \"default\",\n",
    "    \"client_id\": str(uuid.uuid4()),\n",
    "    \"params\": {\n",
    "        \"prompt\": \"a giant mechanical squid during the Normandy landings, 1944 archive photography, ISO, 4k\",\n",
    "        \"seed\": 141\n",
    "    }\n",
    "}\n",
    "\n",
    "response = requests.post(url, json=payload)\n",
    "\n",
    "card_info = response.json()\n",
    "\n",
    "print(card_info[\"info_text\"])\n",
    "\n",
    "base64_str = card_info[\"image_b64\"].split(',')[1]\n",
    "Image.open(BytesIO(base64.b64decode(base64_str)))"
   ]
  },
  {
   "cell_type": "code",
   "execution_count": null,
   "id": "634b9098-8f93-4476-aefe-fc4e074d0d3f",
   "metadata": {},
   "outputs": [],
   "source": []
  }
 ],
 "metadata": {
  "kernelspec": {
   "display_name": "Python 3 (ipykernel)",
   "language": "python",
   "name": "python3"
  },
  "language_info": {
   "codemirror_mode": {
    "name": "ipython",
    "version": 3
   },
   "file_extension": ".py",
   "mimetype": "text/x-python",
   "name": "python",
   "nbconvert_exporter": "python",
   "pygments_lexer": "ipython3",
   "version": "3.10.12"
  }
 },
 "nbformat": 4,
 "nbformat_minor": 5
}
